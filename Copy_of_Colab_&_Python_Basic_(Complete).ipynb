{
  "nbformat": 4,
  "nbformat_minor": 0,
  "metadata": {
    "colab": {
      "name": "Copy of Colab & Python Basic (Complete).ipynb",
      "provenance": [],
      "collapsed_sections": [],
      "toc_visible": true,
      "include_colab_link": true
    },
    "kernelspec": {
      "name": "python3",
      "display_name": "Python 3"
    }
  },
  "cells": [
    {
      "cell_type": "markdown",
      "metadata": {
        "id": "view-in-github",
        "colab_type": "text"
      },
      "source": [
        "<a href=\"https://colab.research.google.com/github/lemonpooh/newbieAsking/blob/master/Copy_of_Colab_%26_Python_Basic_(Complete).ipynb\" target=\"_parent\"><img src=\"https://colab.research.google.com/assets/colab-badge.svg\" alt=\"Open In Colab\"/></a>"
      ]
    },
    {
      "cell_type": "markdown",
      "metadata": {
        "id": "KOpoOt_xHkLZ"
      },
      "source": [
        "# Google Colab\r\n"
      ]
    },
    {
      "cell_type": "markdown",
      "metadata": {
        "id": "0LYMbagbH1-l"
      },
      "source": [
        "## Import Google drive\r\n",
        "Import the google drive into the provisioned session.\r\n",
        "\r\n",
        "Advantages:\r\n",
        "*   To store your data and files .\r\n",
        "*   To manage your own drive.\r\n",
        "\r\n",
        "\r\n",
        "\r\n",
        "\r\n"
      ]
    },
    {
      "cell_type": "code",
      "metadata": {
        "id": "IFEuf3jSHjuT",
        "colab": {
          "base_uri": "https://localhost:8080/"
        },
        "outputId": "1d51a956-dadc-4b07-80cd-b431c673d453"
      },
      "source": [
        "from google.colab import drive\r\n",
        "drive.mount('/content/drive')"
      ],
      "execution_count": null,
      "outputs": [
        {
          "output_type": "stream",
          "text": [
            "Mounted at /content/drive\n"
          ],
          "name": "stdout"
        }
      ]
    },
    {
      "cell_type": "markdown",
      "metadata": {
        "id": "gsSwPpWsH6Pn"
      },
      "source": [
        "## IPython and Shell Commands\r\n",
        "\r\n",
        "\r\n"
      ]
    },
    {
      "cell_type": "markdown",
      "metadata": {
        "id": "WuxKE4D5u3AF"
      },
      "source": [
        "\n",
        "IPython gives you a syntax for executing shell commands directly from within the IPython terminal.\n",
        "The magic happens with the exclamation point: anything appearing after ``!`` on a line will be executed not by the Python kernel, but by the system command-line.\n",
        "\n",
        "The following assumes you're on a Unix-like system, such as Linux or Mac OSX.\n",
        "Some of the examples that follow will fail on Windows, which uses a different type of shell by default."
      ]
    },
    {
      "cell_type": "code",
      "metadata": {
        "colab": {
          "base_uri": "https://localhost:8080/"
        },
        "id": "lV6Ck10uEzlu",
        "outputId": "24e27a19-4bdc-4b0e-b047-adfefb608837"
      },
      "source": [
        "!pwd # to show current working directory"
      ],
      "execution_count": null,
      "outputs": [
        {
          "output_type": "stream",
          "text": [
            "/content\n"
          ],
          "name": "stdout"
        }
      ]
    },
    {
      "cell_type": "code",
      "metadata": {
        "colab": {
          "base_uri": "https://localhost:8080/"
        },
        "id": "W6SxG5D1IkB5",
        "outputId": "4aa0c4ac-615d-4eda-e775-3c39d38a6646"
      },
      "source": [
        "!ls # to list the files"
      ],
      "execution_count": null,
      "outputs": [
        {
          "output_type": "stream",
          "text": [
            "sample_data\n"
          ],
          "name": "stdout"
        }
      ]
    },
    {
      "cell_type": "code",
      "metadata": {
        "colab": {
          "base_uri": "https://localhost:8080/"
        },
        "id": "XpXrq3PHw5RZ",
        "outputId": "251d7e01-502b-4e42-9178-71f63a0d67bd"
      },
      "source": [
        "!cd sample_data/ # Running in temporary subshell\r\n",
        "!pwd"
      ],
      "execution_count": null,
      "outputs": [
        {
          "output_type": "stream",
          "text": [
            "/content\n"
          ],
          "name": "stdout"
        }
      ]
    },
    {
      "cell_type": "code",
      "metadata": {
        "colab": {
          "base_uri": "https://localhost:8080/"
        },
        "id": "c9kTNzhhIogj",
        "outputId": "c2531965-a7c0-41a6-aff5-27ddf73af383"
      },
      "source": [
        "%cd sample_data/\r\n",
        "!pwd"
      ],
      "execution_count": null,
      "outputs": [
        {
          "output_type": "stream",
          "text": [
            "/content/sample_data\n",
            "/content/sample_data\n"
          ],
          "name": "stdout"
        }
      ]
    },
    {
      "cell_type": "code",
      "metadata": {
        "colab": {
          "base_uri": "https://localhost:8080/"
        },
        "id": "B8hAzwnrJNFI",
        "outputId": "0ca82077-7814-465c-839b-d4d543347347"
      },
      "source": [
        "!mkdir tmp # create a directory\r\n",
        "!ls"
      ],
      "execution_count": null,
      "outputs": [
        {
          "output_type": "stream",
          "text": [
            "anscombe.json\t\t      mnist_test.csv\t     tmp\n",
            "california_housing_test.csv   mnist_train_small.csv\n",
            "california_housing_train.csv  README.md\n"
          ],
          "name": "stdout"
        }
      ]
    },
    {
      "cell_type": "code",
      "metadata": {
        "colab": {
          "base_uri": "https://localhost:8080/"
        },
        "id": "bn6QcpsBI3LC",
        "outputId": "81995ce7-148c-4199-8276-11d8490646b4"
      },
      "source": [
        "current_dir = !pwd # store command-line result to variable\r\n",
        "print(current_dir)"
      ],
      "execution_count": null,
      "outputs": [
        {
          "output_type": "stream",
          "text": [
            "['/content']\n"
          ],
          "name": "stdout"
        }
      ]
    },
    {
      "cell_type": "code",
      "metadata": {
        "colab": {
          "base_uri": "https://localhost:8080/"
        },
        "id": "cK3dZcchJh_j",
        "outputId": "36ccc40a-7d25-46f4-a697-b75232e39221"
      },
      "source": [
        "!echo \"test123\" > test.txt # write a test file\r\n",
        "!cat test.txt"
      ],
      "execution_count": null,
      "outputs": [
        {
          "output_type": "stream",
          "text": [
            "test123\n"
          ],
          "name": "stdout"
        }
      ]
    },
    {
      "cell_type": "markdown",
      "metadata": {
        "id": "sON6DSP_cPQY"
      },
      "source": [
        "# Datatypes \r\n",
        "In python, we have some basic datatypes such as string, int, float and etc. "
      ]
    },
    {
      "cell_type": "code",
      "metadata": {
        "id": "2lzRNQP0cITu",
        "colab": {
          "base_uri": "https://localhost:8080/"
        },
        "outputId": "27a73e7e-79d6-4496-90c2-c22cd5567ce5"
      },
      "source": [
        "print(\"Hello\") # string\r\n",
        "print('hi') # string\r\n",
        "print(2.12) # float\r\n"
      ],
      "execution_count": null,
      "outputs": [
        {
          "output_type": "stream",
          "text": [
            "Hello\n",
            "hi\n",
            "2.12\n"
          ],
          "name": "stdout"
        }
      ]
    },
    {
      "cell_type": "markdown",
      "metadata": {
        "id": "uOYMPq7KYVB3"
      },
      "source": [
        "# Basic math operation\r\n",
        "Some basic math operation can be used in Python such as \r\n",
        "\r\n",
        "```\r\n",
        "+, -, *, /, **, //, %. \r\n",
        "```\r\n",
        "\r\n"
      ]
    },
    {
      "cell_type": "code",
      "metadata": {
        "colab": {
          "base_uri": "https://localhost:8080/"
        },
        "id": "lDlhLgDYZZ0P",
        "outputId": "00b1577e-6eaa-406b-ebdb-0938e281894f"
      },
      "source": [
        "print(1 + 2)\r\n",
        "print(1 * 2 + 5)\r\n",
        "print( 3 / 4 )\r\n",
        "print(2 ** 2)"
      ],
      "execution_count": null,
      "outputs": [
        {
          "output_type": "stream",
          "text": [
            "3\n",
            "7\n",
            "0.75\n",
            "4\n"
          ],
          "name": "stdout"
        }
      ]
    },
    {
      "cell_type": "markdown",
      "metadata": {
        "id": "hsieEEX2cbB2"
      },
      "source": [
        "Quotient and remainder"
      ]
    },
    {
      "cell_type": "code",
      "metadata": {
        "id": "WMBhXKsNcZu2",
        "colab": {
          "base_uri": "https://localhost:8080/"
        },
        "outputId": "fa2d1a94-8ebc-44c2-cc8f-30fa7a1070b8"
      },
      "source": [
        "print(20 // 7) # get for the quotient\r\n",
        "print(20 % 7) # remainder"
      ],
      "execution_count": null,
      "outputs": [
        {
          "output_type": "stream",
          "text": [
            "2\n",
            "6\n"
          ],
          "name": "stdout"
        }
      ]
    },
    {
      "cell_type": "markdown",
      "metadata": {
        "id": "Yw8sNCuGbNZO"
      },
      "source": [
        "# In-place Operator"
      ]
    },
    {
      "cell_type": "code",
      "metadata": {
        "colab": {
          "base_uri": "https://localhost:8080/"
        },
        "id": "feAqsGzlbQYY",
        "outputId": "98241a16-c36a-462a-8238-f29948b38cf7"
      },
      "source": [
        "x = 4\r\n",
        "x += 5    # similar to x = x + 5\r\n",
        "x -= 2    # similar to x = x - 2\r\n",
        "print(x)"
      ],
      "execution_count": null,
      "outputs": [
        {
          "output_type": "stream",
          "text": [
            "7\n"
          ],
          "name": "stdout"
        }
      ]
    },
    {
      "cell_type": "code",
      "metadata": {
        "colab": {
          "base_uri": "https://localhost:8080/",
          "height": 128
        },
        "id": "bshxnzBDyrhM",
        "outputId": "306796d9-a1a5-4052-9fb3-f0a848feaaf6"
      },
      "source": [
        "x-- # postfix decrement operator"
      ],
      "execution_count": null,
      "outputs": [
        {
          "output_type": "error",
          "ename": "SyntaxError",
          "evalue": "ignored",
          "traceback": [
            "\u001b[0;36m  File \u001b[0;32m\"<ipython-input-11-f5de74e86927>\"\u001b[0;36m, line \u001b[0;32m1\u001b[0m\n\u001b[0;31m    x--\u001b[0m\n\u001b[0m       ^\u001b[0m\n\u001b[0;31mSyntaxError\u001b[0m\u001b[0;31m:\u001b[0m invalid syntax\n"
          ]
        }
      ]
    },
    {
      "cell_type": "code",
      "metadata": {
        "colab": {
          "base_uri": "https://localhost:8080/"
        },
        "id": "W73Ym-jAedVv",
        "outputId": "a8e82b15-202b-4877-9ce7-3219f56c1d62"
      },
      "source": [
        "spam = \"spam\"\r\n",
        "spam *= 3\r\n",
        "print(spam)"
      ],
      "execution_count": null,
      "outputs": [
        {
          "output_type": "stream",
          "text": [
            "spamspamspam\n"
          ],
          "name": "stdout"
        }
      ]
    },
    {
      "cell_type": "markdown",
      "metadata": {
        "id": "_J7Z9mOwas4-"
      },
      "source": [
        "# Strings\r\n",
        "\r\n",
        "In Python, single quotation (') and double quotation (\") is treated as the same datatype which is string. "
      ]
    },
    {
      "cell_type": "code",
      "metadata": {
        "id": "qp2pNj_ZZGI5",
        "colab": {
          "base_uri": "https://localhost:8080/"
        },
        "outputId": "e7384d69-6de6-4a42-9275-e9f252a9fda6"
      },
      "source": [
        "print(\"Welcome to DSC\")\r\n",
        "print('Python is amazing')"
      ],
      "execution_count": null,
      "outputs": [
        {
          "output_type": "stream",
          "text": [
            "Welcome to DSC\n",
            "Python is amazing\n"
          ],
          "name": "stdout"
        }
      ]
    },
    {
      "cell_type": "markdown",
      "metadata": {
        "id": "Opdr5UuOywaS"
      },
      "source": [
        "Python also allow some math operation to be used in string. For example, +, *."
      ]
    },
    {
      "cell_type": "code",
      "metadata": {
        "colab": {
          "base_uri": "https://localhost:8080/"
        },
        "id": "_AQBP8ETcllL",
        "outputId": "6b7f6c1c-7a66-4ab4-df66-c979d9015111"
      },
      "source": [
        "x = 'Hello'\r\n",
        "y = \" World\"\r\n",
        "print(x + y)"
      ],
      "execution_count": null,
      "outputs": [
        {
          "output_type": "stream",
          "text": [
            "Hello World\n"
          ],
          "name": "stdout"
        }
      ]
    },
    {
      "cell_type": "code",
      "metadata": {
        "colab": {
          "base_uri": "https://localhost:8080/"
        },
        "id": "0hxvZ62Oc_Ft",
        "outputId": "9d792ec9-e40e-4271-85f7-3b387e9bd064"
      },
      "source": [
        "x = 'spam'\r\n",
        "print(x * 3)"
      ],
      "execution_count": null,
      "outputs": [
        {
          "output_type": "stream",
          "text": [
            "spamspamspam\n"
          ],
          "name": "stdout"
        }
      ]
    },
    {
      "cell_type": "markdown",
      "metadata": {
        "id": "_wQuneSTbBXO"
      },
      "source": [
        "# Declaring variable\r\n",
        "\r\n",
        "Python has no command for declaring a variable.\r\n",
        "\r\n",
        "A variable is created the moment you first assign a value to it.\r\n",
        "\r\n",
        "Variables do not need to be declared with any particular type, and can even change type after they have been set."
      ]
    },
    {
      "cell_type": "code",
      "metadata": {
        "id": "aWETHAZRRaWa",
        "colab": {
          "base_uri": "https://localhost:8080/"
        },
        "outputId": "f3759e65-eaf8-4923-8419-2d609d992c01"
      },
      "source": [
        "x = 1 # in java or c, int x = 1\r\n",
        "y = 2\r\n",
        "print(x + y)"
      ],
      "execution_count": null,
      "outputs": [
        {
          "output_type": "stream",
          "text": [
            "3\n"
          ],
          "name": "stdout"
        }
      ]
    },
    {
      "cell_type": "code",
      "metadata": {
        "colab": {
          "base_uri": "https://localhost:8080/"
        },
        "id": "gi2GXnzVbh5e",
        "outputId": "e16a5bba-3f8a-40b0-cc15-0b9368cc0a40"
      },
      "source": [
        "name = \"My name is Ah Chong.\"\r\n",
        "print(name)"
      ],
      "execution_count": null,
      "outputs": [
        {
          "output_type": "stream",
          "text": [
            "My name is Ah Chong.\n"
          ],
          "name": "stdout"
        }
      ]
    },
    {
      "cell_type": "markdown",
      "metadata": {
        "id": "kqmv-QIlOWAk"
      },
      "source": [
        "# List \r\n",
        "Lists are used to store multiple items in a single variable.\r\n",
        "\r\n",
        "**List items are ordered, changeable, and allow duplicate values.**"
      ]
    },
    {
      "cell_type": "code",
      "metadata": {
        "colab": {
          "base_uri": "https://localhost:8080/"
        },
        "id": "JTC14UM7d-x6",
        "outputId": "2d4122da-6936-4dc3-e0cd-833a3d1a240d"
      },
      "source": [
        "fruits = ['apple', 'orange', 'grapes'] # similar to array\r\n",
        "\r\n",
        "print(fruits)"
      ],
      "execution_count": null,
      "outputs": [
        {
          "output_type": "stream",
          "text": [
            "['apple', 'orange', 'grapes']\n"
          ],
          "name": "stdout"
        }
      ]
    },
    {
      "cell_type": "markdown",
      "metadata": {
        "id": "O2S4taub4M9m"
      },
      "source": [
        "accessing item in list"
      ]
    },
    {
      "cell_type": "code",
      "metadata": {
        "colab": {
          "base_uri": "https://localhost:8080/"
        },
        "id": "-9FYWlvaeIgg",
        "outputId": "661c78bd-8704-40ce-90e0-d32c1bb9202f"
      },
      "source": [
        "fruits = ['apple', 'orange', 'grapes']\r\n",
        "\r\n",
        "print(fruits[0])"
      ],
      "execution_count": null,
      "outputs": [
        {
          "output_type": "stream",
          "text": [
            "apple\n"
          ],
          "name": "stdout"
        }
      ]
    },
    {
      "cell_type": "code",
      "metadata": {
        "colab": {
          "base_uri": "https://localhost:8080/"
        },
        "id": "wbZOUrZkgjfX",
        "outputId": "cdc210e1-7f3e-4a2e-cbcf-92cf1fa6f0a6"
      },
      "source": [
        "topic = \"python\"\r\n",
        "\r\n",
        "print(topic[3])"
      ],
      "execution_count": null,
      "outputs": [
        {
          "output_type": "stream",
          "text": [
            "h\n"
          ],
          "name": "stdout"
        }
      ]
    },
    {
      "cell_type": "markdown",
      "metadata": {
        "id": "rX4jugLyxjpC"
      },
      "source": [
        "## List Operation"
      ]
    },
    {
      "cell_type": "markdown",
      "metadata": {
        "id": "Nz9u8uG32Hn6"
      },
      "source": [
        "You can check if an item is inside the list by using ` in `. To check if an item is not inside the list, add a `not`\r\n",
        "\r\n"
      ]
    },
    {
      "cell_type": "code",
      "metadata": {
        "colab": {
          "base_uri": "https://localhost:8080/"
        },
        "id": "1qp5Tq3henMZ",
        "outputId": "38dba8e0-2cb8-4d9a-c651-208b03a6957f"
      },
      "source": [
        "fruits = ['apple', 'banana', 'grapes', 'orange']\r\n",
        "\r\n",
        "print('apple' in fruits)\r\n",
        "print('egg' in fruits)\r\n",
        "\r\n",
        "print('egg' not in fruits)\r\n",
        "print(not 'egg' in fruits) # in java, !true = false"
      ],
      "execution_count": null,
      "outputs": [
        {
          "output_type": "stream",
          "text": [
            "True\n",
            "False\n",
            "True\n",
            "True\n"
          ],
          "name": "stdout"
        }
      ]
    },
    {
      "cell_type": "markdown",
      "metadata": {
        "id": "LloYeT7-2eLk"
      },
      "source": [
        "You can also add an item or items into existing list."
      ]
    },
    {
      "cell_type": "code",
      "metadata": {
        "colab": {
          "base_uri": "https://localhost:8080/"
        },
        "id": "2-4rjGhxfSSq",
        "outputId": "5c33fdd5-5217-4942-cd45-755d8b7bfa79"
      },
      "source": [
        "fruits = ['apple', 'banana', 'grapes', 'orange']\r\n",
        "fruits_2 = ['pear', 'pineapple']\r\n",
        "\r\n",
        "# Method 1\r\n",
        "all_fruits = fruits + fruits_2\r\n",
        "print(all_fruits)\r\n",
        "\r\n",
        "# Method 2 - extend an iterable\r\n",
        "fruits.extend(fruits_2)\r\n",
        "print(fruits)"
      ],
      "execution_count": null,
      "outputs": [
        {
          "output_type": "stream",
          "text": [
            "['apple', 'banana', 'grapes', 'orange', 'pear', 'pineapple']\n",
            "['apple', 'banana', 'grapes', 'orange', 'pear', 'pineapple']\n"
          ],
          "name": "stdout"
        }
      ]
    },
    {
      "cell_type": "markdown",
      "metadata": {
        "id": "FECLjB-h6RZp"
      },
      "source": [
        "You can remove an items from a list by using `remove()`, `pop()`, `del`"
      ]
    },
    {
      "cell_type": "code",
      "metadata": {
        "colab": {
          "base_uri": "https://localhost:8080/"
        },
        "id": "BjkosvyK6c-6",
        "outputId": "e359deca-38cb-44cb-b8ca-edad72bdd521"
      },
      "source": [
        "fruits = ['apple', 'banana', 'grapes', 'orange']\r\n",
        "\r\n",
        "fruits.pop() # remove the last item\r\n",
        "print(fruits)\r\n",
        "\r\n",
        "fruits.pop(2) # remove the item index of 2\r\n",
        "print(fruits)\r\n",
        "\r\n",
        "fruits.remove('banana') # remove the item banana from the list\r\n",
        "print(fruits)\r\n",
        "\r\n",
        "del fruits[0] # remove the first index of the list\r\n",
        "print(fruits)"
      ],
      "execution_count": null,
      "outputs": [
        {
          "output_type": "stream",
          "text": [
            "['apple', 'banana', 'grapes']\n",
            "['apple', 'banana']\n",
            "['apple']\n",
            "[]\n"
          ],
          "name": "stdout"
        }
      ]
    },
    {
      "cell_type": "markdown",
      "metadata": {
        "id": "gx0EvrjE4CDb"
      },
      "source": [
        "You can perform slicing in list by using square bracket([ ]). You can slice the item by\r\n",
        "\r\n",
        "`[start_index(inclusive), end_index(exclusive), jump] `"
      ]
    },
    {
      "cell_type": "code",
      "metadata": {
        "colab": {
          "base_uri": "https://localhost:8080/"
        },
        "id": "WVZsb3hFyFnO",
        "outputId": "5ceaf2ff-c435-4332-e407-ecd6b63ce5e6"
      },
      "source": [
        "fruits = ['apple', 'banana', 'grapes', 'orange']\r\n",
        "\r\n",
        "\r\n",
        "print(fruits[0:2]) # slicing [0, 2)\r\n",
        "print(fruits[:3])\r\n",
        "print(fruits[:3:2])\r\n",
        "print(fruits[-1])\r\n",
        "print(fruits[::-1])"
      ],
      "execution_count": null,
      "outputs": [
        {
          "output_type": "stream",
          "text": [
            "['apple', 'banana']\n",
            "['apple', 'banana', 'grapes']\n",
            "['apple', 'grapes']\n",
            "orange\n",
            "['orange', 'grapes', 'banana', 'apple']\n"
          ],
          "name": "stdout"
        }
      ]
    },
    {
      "cell_type": "code",
      "metadata": {
        "colab": {
          "base_uri": "https://localhost:8080/"
        },
        "id": "FXIvJ0I35DZ6",
        "outputId": "55515274-336a-4871-ce59-0efd1c735974"
      },
      "source": [
        "pineapple = \"pineapple\"\r\n",
        "print(pineapple[4:])"
      ],
      "execution_count": null,
      "outputs": [
        {
          "output_type": "stream",
          "text": [
            "apple\n"
          ],
          "name": "stdout"
        }
      ]
    },
    {
      "cell_type": "markdown",
      "metadata": {
        "id": "bdJYCo2J1Q-r"
      },
      "source": [
        "## List Functions"
      ]
    },
    {
      "cell_type": "markdown",
      "metadata": {
        "id": "9SrSoDHT4iv2"
      },
      "source": [
        "You can add an item to the end of the list, by using the `append()` method."
      ]
    },
    {
      "cell_type": "code",
      "metadata": {
        "colab": {
          "base_uri": "https://localhost:8080/"
        },
        "id": "dlcZf-0VyN9r",
        "outputId": "fa5eb896-4dc9-401c-88ce-f6f56188cc88"
      },
      "source": [
        "fruit = ['apple', 'banana']\r\n",
        "fruit_2 = ['grapes', 'orange']\r\n",
        "fruit.append(fruit_2) # add an items to the end of the list\r\n",
        "print(fruit)\r\n",
        "print(len(fruit))"
      ],
      "execution_count": null,
      "outputs": [
        {
          "output_type": "stream",
          "text": [
            "['apple', 'banana', ['grapes', 'orange']]\n",
            "3\n"
          ],
          "name": "stdout"
        }
      ]
    },
    {
      "cell_type": "markdown",
      "metadata": {
        "id": "vvMikL2B4rxc"
      },
      "source": [
        "To append elements from another list to the current list, use the `extend()` method."
      ]
    },
    {
      "cell_type": "code",
      "metadata": {
        "colab": {
          "base_uri": "https://localhost:8080/"
        },
        "id": "A3yzf8_O1ajt",
        "outputId": "bbee079f-1bac-47a6-fa87-1dd6421d57df"
      },
      "source": [
        "fruit = ['apple', 'banana']\r\n",
        "fruit_2 = ['grapes', 'orange']\r\n",
        "fruit.extend(fruit_2) # \r\n",
        "print(fruit)\r\n",
        "print(len(fruit))"
      ],
      "execution_count": null,
      "outputs": [
        {
          "output_type": "stream",
          "text": [
            "['apple', 'banana', 'grapes', 'orange']\n",
            "4\n"
          ],
          "name": "stdout"
        }
      ]
    },
    {
      "cell_type": "markdown",
      "metadata": {
        "id": "OF8DxdN74ubC"
      },
      "source": [
        "You can check the size of the list by using `len()` method"
      ]
    },
    {
      "cell_type": "code",
      "metadata": {
        "colab": {
          "base_uri": "https://localhost:8080/"
        },
        "id": "SAFBpZoD1omJ",
        "outputId": "537b1cd5-6a74-4723-c922-e63fc1cbf8a8"
      },
      "source": [
        "fruits = ['apple', 'banana', 'grapes', 'orange']\r\n",
        "print(len(fruits))"
      ],
      "execution_count": null,
      "outputs": [
        {
          "output_type": "stream",
          "text": [
            "4\n"
          ],
          "name": "stdout"
        }
      ]
    },
    {
      "cell_type": "markdown",
      "metadata": {
        "id": "rfCFoJOs42y7"
      },
      "source": [
        "To insert a list item at a specified index, use the `insert()` method.\r\n",
        "\r\n",
        "The `insert()` method inserts an item at the specified index:"
      ]
    },
    {
      "cell_type": "code",
      "metadata": {
        "id": "umNcVL2117lI",
        "colab": {
          "base_uri": "https://localhost:8080/"
        },
        "outputId": "2141ac3a-2e75-4286-d724-cdced6f50ad0"
      },
      "source": [
        "fruit = ['apple', \"banana\"]\r\n",
        "fruit.insert(1, 'grapes')\r\n",
        "print(fruit)"
      ],
      "execution_count": null,
      "outputs": [
        {
          "output_type": "stream",
          "text": [
            "['apple', 'grapes', 'banana']\n"
          ],
          "name": "stdout"
        }
      ]
    },
    {
      "cell_type": "markdown",
      "metadata": {
        "id": "otyrrSi05KBq"
      },
      "source": [
        "Other list method\r\n",
        "\r\n",
        "`index()` - to get the index of the first occurance of the item\r\n",
        "\r\n",
        "`max()` - to get the maximum in the list\r\n",
        "\r\n",
        "`min()` - to get the minimum in the list\r\n",
        "\r\n",
        "`count()` - to count the number of occurance of the item\r\n",
        "\r\n",
        "`reverse()` - to reverse a list\r\n",
        "\r\n",
        "`remove()` -  to remove an item"
      ]
    },
    {
      "cell_type": "code",
      "metadata": {
        "colab": {
          "base_uri": "https://localhost:8080/"
        },
        "id": "CrV0zrxdjiI3",
        "outputId": "7abe24cb-98c2-4080-8288-f3e73ca6cee1"
      },
      "source": [
        "numbers = [1, 2, 3, 4, 5, 5, 6]\r\n",
        "\r\n",
        "print(numbers.index(5)) # get index of the element\r\n",
        "print(max(numbers)) # get the maximum\r\n",
        "print(min(numbers)) # minimum\r\n",
        "print(numbers.count(5)) # count the occurance of the element\r\n",
        "\r\n",
        "numbers.remove(4)\r\n",
        "print(numbers)\r\n",
        "\r\n",
        "numbers.reverse()\r\n",
        "print(numbers)"
      ],
      "execution_count": null,
      "outputs": [
        {
          "output_type": "stream",
          "text": [
            "4\n",
            "6\n",
            "1\n",
            "2\n",
            "[1, 2, 3, 5, 5, 6]\n",
            "[6, 5, 5, 3, 2, 1]\n"
          ],
          "name": "stdout"
        }
      ]
    },
    {
      "cell_type": "markdown",
      "metadata": {
        "id": "vuSmNVg77pPM"
      },
      "source": [
        "# Tuple\r\n",
        "\r\n",
        "Tuples are used to store multiple items in a single variable. \r\n",
        "\r\n",
        "Tuple is one of 4 built-in data types in Python used to store collections of data\r\n",
        "\r\n",
        "**A tuple is a collection which is ordered and unchangeable.**"
      ]
    },
    {
      "cell_type": "code",
      "metadata": {
        "colab": {
          "base_uri": "https://localhost:8080/"
        },
        "id": "-eXyBYr07qf-",
        "outputId": "860d6163-df16-41d2-f081-8ba2ddf8a539"
      },
      "source": [
        "x = (123, \"abc\") # packing\r\n",
        "y = tuple([1234, \"abcd\"])\r\n",
        "\r\n",
        "print(x)\r\n",
        "print(y)"
      ],
      "execution_count": null,
      "outputs": [
        {
          "output_type": "stream",
          "text": [
            "(123, 'abc')\n",
            "(1234, 'abcd')\n"
          ],
          "name": "stdout"
        }
      ]
    },
    {
      "cell_type": "markdown",
      "metadata": {
        "id": "WmYxJw0Ucdmu"
      },
      "source": [
        "Access an item in tuple"
      ]
    },
    {
      "cell_type": "code",
      "metadata": {
        "colab": {
          "base_uri": "https://localhost:8080/"
        },
        "id": "l8glYCx89nyD",
        "outputId": "11b86bf4-95f7-4578-a346-9b89824cfaf7"
      },
      "source": [
        "x = (123, \"abc\", 456)\r\n",
        "print(x[0])"
      ],
      "execution_count": null,
      "outputs": [
        {
          "output_type": "stream",
          "text": [
            "123\n"
          ],
          "name": "stdout"
        }
      ]
    },
    {
      "cell_type": "markdown",
      "metadata": {
        "id": "LaH-F1kI8wUt"
      },
      "source": [
        "In Python, we are also allowed to extract the values from the tuple back into variables which is called \"unpacking\""
      ]
    },
    {
      "cell_type": "code",
      "metadata": {
        "colab": {
          "base_uri": "https://localhost:8080/"
        },
        "id": "tP11n9YQ8DNj",
        "outputId": "4f4af4be-97bf-4acc-bce0-1dbcb0cf50c8"
      },
      "source": [
        "x_1, x_2 = x\r\n",
        "print(x_1)\r\n",
        "print(x_2)"
      ],
      "execution_count": null,
      "outputs": [
        {
          "output_type": "stream",
          "text": [
            "123\n",
            "abc\n"
          ],
          "name": "stdout"
        }
      ]
    },
    {
      "cell_type": "code",
      "metadata": {
        "colab": {
          "base_uri": "https://localhost:8080/",
          "height": 162
        },
        "id": "2uQlB1Px8Sh4",
        "outputId": "d52c79d6-56d1-4198-b4b4-b57c4e9b256f"
      },
      "source": [
        "x_1, x_2, x_3 = x"
      ],
      "execution_count": null,
      "outputs": [
        {
          "output_type": "error",
          "ename": "ValueError",
          "evalue": "ignored",
          "traceback": [
            "\u001b[0;31m---------------------------------------------------------------------------\u001b[0m",
            "\u001b[0;31mValueError\u001b[0m                                Traceback (most recent call last)",
            "\u001b[0;32m<ipython-input-31-dbc6751c7815>\u001b[0m in \u001b[0;36m<module>\u001b[0;34m()\u001b[0m\n\u001b[0;32m----> 1\u001b[0;31m \u001b[0mx_1\u001b[0m\u001b[0;34m,\u001b[0m \u001b[0mx_2\u001b[0m\u001b[0;34m,\u001b[0m \u001b[0mx_3\u001b[0m \u001b[0;34m=\u001b[0m \u001b[0mx\u001b[0m\u001b[0;34m\u001b[0m\u001b[0;34m\u001b[0m\u001b[0m\n\u001b[0m",
            "\u001b[0;31mValueError\u001b[0m: not enough values to unpack (expected 3, got 2)"
          ]
        }
      ]
    },
    {
      "cell_type": "markdown",
      "metadata": {
        "id": "JQYnad8Ncjyb"
      },
      "source": [
        "Unpacking using asterisk(*)"
      ]
    },
    {
      "cell_type": "code",
      "metadata": {
        "colab": {
          "base_uri": "https://localhost:8080/"
        },
        "id": "fPOyzu7O8o9e",
        "outputId": "5a1f7437-ae3a-4dd1-ae6d-678028e8eae1"
      },
      "source": [
        "x = ('apple', 'banana', 'grapes', 'orange')\r\n",
        "\r\n",
        "x_1, x_2,  *x_3 = x\r\n",
        "\r\n",
        "print(x_1)\r\n",
        "print(x_2)\r\n",
        "print(x_3)\r\n",
        "\r\n",
        "\r\n",
        "*x_1, x_2 = x\r\n",
        "\r\n",
        "print(x_1)\r\n",
        "print(x_2)"
      ],
      "execution_count": null,
      "outputs": [
        {
          "output_type": "stream",
          "text": [
            "apple\n",
            "banana\n",
            "['grapes', 'orange']\n",
            "['apple', 'banana', 'grapes']\n",
            "orange\n"
          ],
          "name": "stdout"
        }
      ]
    },
    {
      "cell_type": "markdown",
      "metadata": {
        "id": "83_EfTWA-CtE"
      },
      "source": [
        "# Set\r\n",
        "Sets are used to store multiple items in a single variable.\r\n",
        "\r\n",
        "Set is one of 4 built-in data types in Python used to store collections of data\r\n",
        "\r\n",
        "**Set items are unordered, unchangeable, and do not allow duplicate values.**"
      ]
    },
    {
      "cell_type": "code",
      "metadata": {
        "colab": {
          "base_uri": "https://localhost:8080/"
        },
        "id": "T1u11skz-YTF",
        "outputId": "9557cc3d-60fa-49d0-8c28-c2aa93370a4f"
      },
      "source": [
        "fruit_set  = {\"apple\", \"banana\", \"cherry\"}\r\n",
        "print(fruit_set)"
      ],
      "execution_count": null,
      "outputs": [
        {
          "output_type": "stream",
          "text": [
            "{'apple', 'cherry', 'banana'}\n"
          ],
          "name": "stdout"
        }
      ]
    },
    {
      "cell_type": "code",
      "metadata": {
        "colab": {
          "base_uri": "https://localhost:8080/"
        },
        "id": "jrfnrVjz-qrt",
        "outputId": "3a75b9ac-e995-484c-816a-c62872276368"
      },
      "source": [
        "fruit_set =  {\"apple\", \"banana\", \"cherry\", \"apple\", \"banana\"}\r\n",
        "print(fruit_set)"
      ],
      "execution_count": null,
      "outputs": [
        {
          "output_type": "stream",
          "text": [
            "{'apple', 'cherry', 'banana'}\n"
          ],
          "name": "stdout"
        }
      ]
    },
    {
      "cell_type": "markdown",
      "metadata": {
        "id": "-bz5waD3-imd"
      },
      "source": [
        "You cannot access an item in set."
      ]
    },
    {
      "cell_type": "code",
      "metadata": {
        "colab": {
          "base_uri": "https://localhost:8080/",
          "height": 163
        },
        "id": "AqbLJT41-iAc",
        "outputId": "c4550e42-863f-4cc3-e0ee-9952ac131487"
      },
      "source": [
        "fruit_set[0]"
      ],
      "execution_count": null,
      "outputs": [
        {
          "output_type": "error",
          "ename": "TypeError",
          "evalue": "ignored",
          "traceback": [
            "\u001b[0;31m---------------------------------------------------------------------------\u001b[0m",
            "\u001b[0;31mTypeError\u001b[0m                                 Traceback (most recent call last)",
            "\u001b[0;32m<ipython-input-22-414c5ebe30eb>\u001b[0m in \u001b[0;36m<module>\u001b[0;34m()\u001b[0m\n\u001b[0;32m----> 1\u001b[0;31m \u001b[0mfruit_set\u001b[0m\u001b[0;34m[\u001b[0m\u001b[0;36m0\u001b[0m\u001b[0;34m]\u001b[0m\u001b[0;34m\u001b[0m\u001b[0;34m\u001b[0m\u001b[0m\n\u001b[0m",
            "\u001b[0;31mTypeError\u001b[0m: 'set' object does not support indexing"
          ]
        }
      ]
    },
    {
      "cell_type": "markdown",
      "metadata": {
        "id": "AX1mlgAI_Ais"
      },
      "source": [
        "You can loop in a set and check an item in a set. "
      ]
    },
    {
      "cell_type": "code",
      "metadata": {
        "colab": {
          "base_uri": "https://localhost:8080/"
        },
        "id": "3YJR5Ld0_Eis",
        "outputId": "ab15f864-8662-4090-dfca-693f782b88e3"
      },
      "source": [
        "print(\"banana\" in fruit_set)"
      ],
      "execution_count": null,
      "outputs": [
        {
          "output_type": "stream",
          "text": [
            "True\n"
          ],
          "name": "stdout"
        }
      ]
    },
    {
      "cell_type": "code",
      "metadata": {
        "colab": {
          "base_uri": "https://localhost:8080/"
        },
        "id": "Xha5Yl-V_KYb",
        "outputId": "0f541ba2-7126-487e-8085-464940f8d80f"
      },
      "source": [
        "for i in fruit_set:\r\n",
        "  print(i)"
      ],
      "execution_count": null,
      "outputs": [
        {
          "output_type": "stream",
          "text": [
            "apple\n",
            "cherry\n",
            "banana\n"
          ],
          "name": "stdout"
        }
      ]
    },
    {
      "cell_type": "markdown",
      "metadata": {
        "id": "cUcdtMmE_kkk"
      },
      "source": [
        "Set Method\r\n",
        "\r\n",
        "`add()` - add an item to the set\r\n",
        "\r\n",
        "`difference()` - Check the differences between 2 sets\r\n",
        "\r\n",
        "`discard()` - remove the specific items\r\n",
        "\r\n",
        "`union()` - return a set containing the union of sets"
      ]
    },
    {
      "cell_type": "code",
      "metadata": {
        "colab": {
          "base_uri": "https://localhost:8080/"
        },
        "id": "s9fHKiq7_-Kj",
        "outputId": "38cf8c8d-2324-4541-a3e5-c18baada024b"
      },
      "source": [
        "fruit_1 = {\"apple\", \"banana\"}\r\n",
        "fruit_2 = {\"apple\", \"banana\", \"kiwi\"}\r\n",
        "\r\n",
        "fruit_1.add(\"durian\")\r\n",
        "print(fruit_1)\r\n",
        "\r\n",
        "print(fruit_1.difference(fruit_2))\r\n",
        "\r\n",
        "fruit_1.discard(\"durian\")\r\n",
        "print(fruit_1)\r\n",
        "\r\n",
        "fruit_1.union(fruit_2)"
      ],
      "execution_count": null,
      "outputs": [
        {
          "output_type": "stream",
          "text": [
            "{'durian', 'apple', 'banana'}\n",
            "{'durian'}\n",
            "{'apple', 'banana'}\n"
          ],
          "name": "stdout"
        },
        {
          "output_type": "execute_result",
          "data": {
            "text/plain": [
              "{'apple', 'banana', 'kiwi'}"
            ]
          },
          "metadata": {
            "tags": []
          },
          "execution_count": 35
        }
      ]
    },
    {
      "cell_type": "markdown",
      "metadata": {
        "id": "AnhKj1veAzYU"
      },
      "source": [
        "# Dictionary\r\n",
        "Dictionaries are used to store data values in key:value pairs.\r\n",
        "\r\n",
        "**A dictionary is a collection which is unordered, changeable and does not allow duplicates.**"
      ]
    },
    {
      "cell_type": "code",
      "metadata": {
        "id": "fYkUmxn1A6cD"
      },
      "source": [
        "student = {\r\n",
        "    \"name\": \"Ah Chong\",\r\n",
        "    \"age\": 20,\r\n",
        "    \"course\": \"IT\"\r\n",
        "}"
      ],
      "execution_count": null,
      "outputs": []
    },
    {
      "cell_type": "markdown",
      "metadata": {
        "id": "ZlExR1WGBSp7"
      },
      "source": [
        "You can access the element of dictionary by using the key. "
      ]
    },
    {
      "cell_type": "code",
      "metadata": {
        "colab": {
          "base_uri": "https://localhost:8080/"
        },
        "id": "Bnuu647JBI7C",
        "outputId": "829ff25a-d3db-45a8-8252-855351725fe1"
      },
      "source": [
        "student[\"age\"]"
      ],
      "execution_count": null,
      "outputs": [
        {
          "output_type": "execute_result",
          "data": {
            "text/plain": [
              "20"
            ]
          },
          "metadata": {
            "tags": []
          },
          "execution_count": 37
        }
      ]
    },
    {
      "cell_type": "code",
      "metadata": {
        "colab": {
          "base_uri": "https://localhost:8080/"
        },
        "id": "_JOJlTn1Be9G",
        "outputId": "31921362-d52b-478b-8bed-81685b685334"
      },
      "source": [
        "student.keys()"
      ],
      "execution_count": null,
      "outputs": [
        {
          "output_type": "execute_result",
          "data": {
            "text/plain": [
              "dict_keys(['name', 'age', 'course'])"
            ]
          },
          "metadata": {
            "tags": []
          },
          "execution_count": 38
        }
      ]
    },
    {
      "cell_type": "markdown",
      "metadata": {
        "id": "HvUrbg1OBZju"
      },
      "source": [
        "You can reasign an key with a new value or add a new pair of key and value"
      ]
    },
    {
      "cell_type": "code",
      "metadata": {
        "colab": {
          "base_uri": "https://localhost:8080/"
        },
        "id": "udw7lz1ZBnfh",
        "outputId": "cab1ab39-ffc8-416f-dd00-1f8dfc397aec"
      },
      "source": [
        "student = {\r\n",
        "    \"name\": \"Ah Chong\",\r\n",
        "    \"age\": 20,\r\n",
        "    \"course\": \"IT\"\r\n",
        "}\r\n",
        "\r\n",
        "# Method 1\r\n",
        "student['age'] = 19\r\n",
        "student['status'] = \"studying\"\r\n",
        "print(student)"
      ],
      "execution_count": null,
      "outputs": [
        {
          "output_type": "stream",
          "text": [
            "{'name': 'Ah Chong', 'age': 19, 'course': 'IT', 'status': 'studying'}\n"
          ],
          "name": "stdout"
        }
      ]
    },
    {
      "cell_type": "code",
      "metadata": {
        "colab": {
          "base_uri": "https://localhost:8080/"
        },
        "id": "bV6ItH8MEVqx",
        "outputId": "721cac0c-db8e-4862-bf38-120f0bc2d895"
      },
      "source": [
        "student = {\r\n",
        "    \"name\": \"Ah Chong\",\r\n",
        "    \"age\": 20,\r\n",
        "    \"course\": \"IT\"\r\n",
        "}\r\n",
        "\r\n",
        "# Method 2\r\n",
        "student.update({\"age\": 21, \"status\":\"studying\"})\r\n",
        "print(student)"
      ],
      "execution_count": null,
      "outputs": [
        {
          "output_type": "stream",
          "text": [
            "{'name': 'Ah Chong', 'age': 21, 'course': 'IT', 'status': 'studying'}\n"
          ],
          "name": "stdout"
        }
      ]
    },
    {
      "cell_type": "markdown",
      "metadata": {
        "id": "YeN0sNguFX4A"
      },
      "source": [
        "Remove items in the dictionary"
      ]
    },
    {
      "cell_type": "code",
      "metadata": {
        "colab": {
          "base_uri": "https://localhost:8080/"
        },
        "id": "0HmY_GhlFXcL",
        "outputId": "0db7ac5e-e5e5-46ac-c747-fc3239bd05b0"
      },
      "source": [
        "student.pop(\"status\")\r\n",
        "print(student)"
      ],
      "execution_count": null,
      "outputs": [
        {
          "output_type": "stream",
          "text": [
            "{'name': 'Ah Chong', 'course': 'IT'}\n"
          ],
          "name": "stdout"
        }
      ]
    },
    {
      "cell_type": "markdown",
      "metadata": {
        "id": "l8ujcohSFMJQ"
      },
      "source": [
        "Looping through the dictionary"
      ]
    },
    {
      "cell_type": "code",
      "metadata": {
        "colab": {
          "base_uri": "https://localhost:8080/"
        },
        "id": "c3BHU4zzFLr6",
        "outputId": "dfdf408c-0f1d-483e-f836-9119f86b948c"
      },
      "source": [
        "student = {\r\n",
        "    \"name\": \"Ah Chong\",\r\n",
        "    \"age\": 20,\r\n",
        "    \"course\": \"IT\"\r\n",
        "}\r\n",
        "\r\n",
        "for i in student.values():\r\n",
        "  print(i)\r\n",
        "\r\n",
        "for i in student.keys():\r\n",
        "  print(student[i])\r\n",
        "\r\n",
        "for k,v in student.items():\r\n",
        "  print(f\"key: {k} values: {v}\")\r\n"
      ],
      "execution_count": null,
      "outputs": [
        {
          "output_type": "stream",
          "text": [
            "Ah Chong\n",
            "20\n",
            "IT\n",
            "Ah Chong\n",
            "20\n",
            "IT\n",
            "key: name values: Ah Chong\n",
            "key: age values: 20\n",
            "key: course values: IT\n"
          ],
          "name": "stdout"
        }
      ]
    },
    {
      "cell_type": "markdown",
      "metadata": {
        "id": "nX_SbKCEGnEZ"
      },
      "source": [
        "Dictionary methods\r\n",
        "\r\n",
        "`clear()` - clear the dictionary\r\n",
        "\r\n",
        "`fromkeys()` - return dictionary with specified keys and value"
      ]
    },
    {
      "cell_type": "code",
      "metadata": {
        "colab": {
          "base_uri": "https://localhost:8080/"
        },
        "id": "HQy9ohSOGwLm",
        "outputId": "1f9c7167-3197-4b8a-f4ef-bfae0d26b7c3"
      },
      "source": [
        "student.clear()\r\n",
        "print(student)\r\n",
        "\r\n",
        "keys = [\"key1\", \"key2\", \"key3\"]\r\n",
        "values = 0\r\n",
        "\r\n",
        "newdict = dict.fromkeys(keys, values)\r\n",
        "print(newdict)"
      ],
      "execution_count": null,
      "outputs": [
        {
          "output_type": "stream",
          "text": [
            "{}\n",
            "{'key1': 0, 'key2': 0, 'key3': 0}\n"
          ],
          "name": "stdout"
        }
      ]
    },
    {
      "cell_type": "markdown",
      "metadata": {
        "id": "gOU9S4c0HWXA"
      },
      "source": [
        "Summary for List, Set, Tuple, Dictionary\r\n",
        "\r\n",
        "![link text](https://pbs.twimg.com/media/EWokjOaXgAI5fQI.jpg)"
      ]
    },
    {
      "cell_type": "markdown",
      "metadata": {
        "id": "dqY1rnPQa-4e"
      },
      "source": [
        "# Working with input"
      ]
    },
    {
      "cell_type": "code",
      "metadata": {
        "id": "FgM6cmUWYa8P",
        "colab": {
          "base_uri": "https://localhost:8080/"
        },
        "outputId": "67d1b0ba-9592-49db-88cb-2378a26785ec"
      },
      "source": [
        "name = input('Please enter your name ')  # get the name form the user\r\n",
        "print(\"Welcome abroad, \" + name)        # display message"
      ],
      "execution_count": null,
      "outputs": [
        {
          "output_type": "stream",
          "text": [
            "Please enter your nameAh Chong\n",
            "Welcome abroad, Ah Chong\n"
          ],
          "name": "stdout"
        }
      ]
    },
    {
      "cell_type": "markdown",
      "metadata": {
        "id": "-aAfTmfHjV0h"
      },
      "source": [
        "# Exercise 1\r\n"
      ]
    },
    {
      "cell_type": "markdown",
      "metadata": {
        "id": "r5u1lAzZlFNP"
      },
      "source": [
        "Write a program to allow user input his or her username, year of birth and output a welcome message with his or her current age. Example:\r\n",
        "\r\n",
        "\r\n",
        "```\r\n",
        "Please enter your username: Ah Chong\r\n",
        "Please enter your year of birth: 2000\r\n",
        "Welcome Ah Chong, 20 years old to join Python Basic!!\r\n",
        "```\r\n",
        "\r\n"
      ]
    },
    {
      "cell_type": "code",
      "metadata": {
        "colab": {
          "base_uri": "https://localhost:8080/"
        },
        "id": "IobLGz-6lEpI",
        "outputId": "b868fb44-ba92-4501-fac7-4805dd09a387"
      },
      "source": [
        "name = input(\"Please enter your username: \")\r\n",
        "year_of_birth = input(\"Please enter your year of birth: \")\r\n",
        "year_of_birth = int(year_of_birth)\r\n",
        "age = 2020 - year_of_birth\r\n",
        "print(f\"Welcome {name}, {age} years old to join Python Basic!!\")"
      ],
      "execution_count": null,
      "outputs": [
        {
          "output_type": "stream",
          "text": [
            "Please enter your username: Ah Chong\n",
            "Please enter your year of birth: 2000\n",
            "Welcome Ah Chong, 20 years old to join Python Basic!!\n"
          ],
          "name": "stdout"
        }
      ]
    },
    {
      "cell_type": "markdown",
      "metadata": {
        "id": "xYL9nMTEirvg"
      },
      "source": [
        "# Condition Statement"
      ]
    },
    {
      "cell_type": "markdown",
      "metadata": {
        "id": "Y6dG935CexZ2"
      },
      "source": [
        "## Boolean and comparisions\r\n",
        "\r\n",
        "Boolean is ised to evaluate expression and values.\r\n",
        "\r\n",
        "It will only return True or False."
      ]
    },
    {
      "cell_type": "code",
      "metadata": {
        "id": "ZwvVI5m3eI4F"
      },
      "source": [
        "boolean = True\r\n",
        "print(boolean)\r\n",
        "\r\n",
        "print(2==3)\r\n",
        "\r\n",
        "print(\"I like python\" == 'I like python') \r\n"
      ],
      "execution_count": null,
      "outputs": []
    },
    {
      "cell_type": "code",
      "metadata": {
        "id": "hdQOmCYve5EN"
      },
      "source": [
        "print( 5 > 6) \r\n",
        "print( 4 < 6) \r\n",
        "print( 4 >= 4)\r\n",
        "print( 6 <= 4) "
      ],
      "execution_count": null,
      "outputs": []
    },
    {
      "cell_type": "markdown",
      "metadata": {
        "id": "FyrnYCKNM1SO"
      },
      "source": [
        "**Boolean Logic** is used to make more complicated conditions for if statements that rely on more than one condition.\r\n",
        "\r\n",
        "There have 3 **boolean operators** which is **and**, **or** and **not**."
      ]
    },
    {
      "cell_type": "markdown",
      "metadata": {
        "id": "QTPGTBdWX6uQ"
      },
      "source": [
        "**and**\r\n",
        "\r\n",
        "It will only return True when the both arguments are true.\r\n",
        "\r\n",
        "If one of the arguments is false, then it will return False."
      ]
    },
    {
      "cell_type": "code",
      "metadata": {
        "colab": {
          "base_uri": "https://localhost:8080/"
        },
        "id": "uxUqjUFpM2xl",
        "outputId": "ebfda1dc-ecbd-431d-b532-539a673a9eff"
      },
      "source": [
        "print(1 == 1 and 2 == 2) # similar to && in Java and C\r\n",
        "\r\n",
        "print(1 == 1 and 2 == 3)\r\n",
        "\r\n",
        "print(1 != 1 and 2 == 2) # != can also be used as not\r\n",
        "\r\n",
        "print(2 < 1 and 3 >  6)"
      ],
      "execution_count": null,
      "outputs": [
        {
          "output_type": "stream",
          "text": [
            "True\n",
            "False\n",
            "False\n",
            "False\n"
          ],
          "name": "stdout"
        }
      ]
    },
    {
      "cell_type": "markdown",
      "metadata": {
        "id": "Mor3JLo9Nvbi"
      },
      "source": [
        "**or**\r\n",
        "\r\n",
        "It will return True when either one argument is true.\r\n",
        "\r\n",
        "It will only return False when the both arguments are false"
      ]
    },
    {
      "cell_type": "code",
      "metadata": {
        "id": "sukYG9DkNGZb",
        "colab": {
          "base_uri": "https://localhost:8080/"
        },
        "outputId": "27fe1041-13e3-433f-d80d-ebbb1e69cd37"
      },
      "source": [
        "print(1 == 1 or 2 == 2)\r\n",
        "\r\n",
        "print(1 == 1 or 2 == 3)\r\n",
        "\r\n",
        "print(1 != 1 or 2 == 2)\r\n",
        "\r\n",
        "print(2 < 1 or 3 >  6)\r\n"
      ],
      "execution_count": null,
      "outputs": [
        {
          "output_type": "stream",
          "text": [
            "True\n",
            "True\n",
            "True\n",
            "False\n"
          ],
          "name": "stdout"
        }
      ]
    },
    {
      "cell_type": "markdown",
      "metadata": {
        "id": "VBy26VxINwQ2"
      },
      "source": [
        "**not**\r\n",
        "\r\n",
        "Used to inverts the arguments."
      ]
    },
    {
      "cell_type": "code",
      "metadata": {
        "id": "zhvTgcBrNuPa",
        "colab": {
          "base_uri": "https://localhost:8080/"
        },
        "outputId": "e14203d4-7738-474d-cde2-671353f49379"
      },
      "source": [
        "print(not 1 == 1) \r\n",
        "\r\n",
        "print(not 1 > 7)"
      ],
      "execution_count": null,
      "outputs": [
        {
          "output_type": "stream",
          "text": [
            "False\n",
            "True\n"
          ],
          "name": "stdout"
        }
      ]
    },
    {
      "cell_type": "markdown",
      "metadata": {
        "id": "ZFCO46-XfpXg"
      },
      "source": [
        "## if.. elif.. else..\r\n",
        "\r\n",
        "Use **if** statements to run code if a certain condition holds.\r\n",
        "\r\n",
        "If an expression evaluates to **True**, some statements are carried out.\r\n",
        "\r\n",
        "\r\n",
        "**if statement**\r\n",
        "\r\n",
        "```\r\n",
        "if expression:\r\n",
        "  statement\r\n",
        "```\r\n",
        "\r\n"
      ]
    },
    {
      "cell_type": "code",
      "metadata": {
        "id": "eh8de9RbeZNl",
        "colab": {
          "base_uri": "https://localhost:8080/"
        },
        "outputId": "31b8bd53-2321-4076-80e3-243296f01804"
      },
      "source": [
        "if 6 > 5:\r\n",
        "  print('6 is greater than 5')  # remember to put a indentation: white space \r\n",
        "                                \r\n"
      ],
      "execution_count": null,
      "outputs": [
        {
          "output_type": "stream",
          "text": [
            "6 is greater than 5\n",
            "6 is greater than 5\n"
          ],
          "name": "stdout"
        }
      ]
    },
    {
      "cell_type": "markdown",
      "metadata": {
        "id": "-fbJjFXeEmI3"
      },
      "source": [
        "**Else statement**\r\n",
        "\r\n",
        "The **else** statement can be used to run some statements when the condition of the if statement is **False**.\r\n",
        "\r\n",
        "```\r\n",
        "if expression:\r\n",
        "  statement\r\n",
        "else:\r\n",
        "  statement\r\n",
        "```\r\n",
        "\r\n"
      ]
    },
    {
      "cell_type": "code",
      "metadata": {
        "id": "QkGae5lTfypM",
        "colab": {
          "base_uri": "https://localhost:8080/"
        },
        "outputId": "f5fc08ad-5795-4bc9-88dd-74c1fd0d46b2"
      },
      "source": [
        "x = 4\r\n",
        "if x == 5:\r\n",
        "  print('Yes')\r\n",
        "else:\r\n",
        "  print('No')"
      ],
      "execution_count": null,
      "outputs": [
        {
          "output_type": "stream",
          "text": [
            "No\n"
          ],
          "name": "stdout"
        }
      ]
    },
    {
      "cell_type": "markdown",
      "metadata": {
        "id": "oO7dTzc8FfUn"
      },
      "source": [
        "The **elif** (short for else if) statement is a shortcut to use when chaining if and else statements.\r\n",
        "\r\n",
        "\r\n",
        "```\r\n",
        "if expression:\r\n",
        "  statement\r\n",
        "  \r\n",
        "elif expression:\r\n",
        "  statement\r\n",
        "\r\n",
        "else:\r\n",
        "  statement\r\n",
        "```"
      ]
    },
    {
      "cell_type": "code",
      "metadata": {
        "id": "YkcR4qhxFjzq",
        "colab": {
          "base_uri": "https://localhost:8080/"
        },
        "outputId": "bb16a54a-a9e1-4396-89f7-ac00fe8e3095"
      },
      "source": [
        "x = 6 \r\n",
        "\r\n",
        "if x == 5:\r\n",
        "  print('five')\r\n",
        "elif x == 6:\r\n",
        "  print('six')\r\n",
        "else:\r\n",
        "  print('Something else')"
      ],
      "execution_count": null,
      "outputs": [
        {
          "output_type": "stream",
          "text": [
            "six\n"
          ],
          "name": "stdout"
        }
      ]
    },
    {
      "cell_type": "markdown",
      "metadata": {
        "id": "CnPK-rZfo-9L"
      },
      "source": [
        "# Loopings "
      ]
    },
    {
      "cell_type": "markdown",
      "metadata": {
        "id": "LFXV1kTNm5Mv"
      },
      "source": [
        "## While Loop\r\n",
        "\r\n",
        "Use while loop when we want to repeat a block of code multiple times."
      ]
    },
    {
      "cell_type": "code",
      "metadata": {
        "colab": {
          "base_uri": "https://localhost:8080/"
        },
        "id": "AdWGBgw4Z6Jq",
        "outputId": "84b17f2e-3e68-4db2-891c-947ec7602c05"
      },
      "source": [
        "i = 5\r\n",
        "while (i > 0):\r\n",
        "  print(str(i) + \", \" , end=\"!\")\r\n",
        "  i-=1\r\n",
        "\r\n",
        "print(\"Finished\")"
      ],
      "execution_count": null,
      "outputs": [
        {
          "output_type": "stream",
          "text": [
            "5, !4, !3, !2, !1, !Finished\n"
          ],
          "name": "stdout"
        }
      ]
    },
    {
      "cell_type": "code",
      "metadata": {
        "id": "pjgHCZZKnNOM",
        "colab": {
          "base_uri": "https://localhost:8080/"
        },
        "outputId": "2ebbfdb0-b40b-44a2-c0eb-a1383e5a2981"
      },
      "source": [
        "x = 1\r\n",
        "while x < 10:\r\n",
        "    if x%2 == 0:\r\n",
        "        print(str(x) + \" is even\")\r\n",
        "    else:\r\n",
        "        print(str(x) + \" is odd\")\r\n",
        "\r\n",
        "    x += 1 "
      ],
      "execution_count": null,
      "outputs": [
        {
          "output_type": "stream",
          "text": [
            "1 is odd\n",
            "2 is even\n",
            "3 is odd\n",
            "4 is even\n",
            "5 is odd\n",
            "6 is even\n",
            "7 is odd\n",
            "8 is even\n",
            "9 is odd\n"
          ],
          "name": "stdout"
        }
      ]
    },
    {
      "cell_type": "code",
      "metadata": {
        "id": "WEkKs8WgnoUL",
        "colab": {
          "base_uri": "https://localhost:8080/"
        },
        "outputId": "6634c72a-5fd7-4fb0-ba67-87298df14cd3"
      },
      "source": [
        "i = 0\r\n",
        "while 1==1:\r\n",
        "    print(i)\r\n",
        "    i = i + 1\r\n",
        "    if i >= 5:\r\n",
        "        print(\"Breaking\")\r\n",
        "        break\r\n",
        "\r\n",
        "print(\"Finished\")"
      ],
      "execution_count": null,
      "outputs": [
        {
          "output_type": "stream",
          "text": [
            "0\n",
            "1\n",
            "2\n",
            "3\n",
            "4\n",
            "Breaking\n",
            "Finished\n"
          ],
          "name": "stdout"
        }
      ]
    },
    {
      "cell_type": "code",
      "metadata": {
        "id": "E0WgEqxZnqyc",
        "colab": {
          "base_uri": "https://localhost:8080/"
        },
        "outputId": "0fd382d8-2f31-4293-a373-f2071f06a320"
      },
      "source": [
        "i = 0\r\n",
        "while True:\r\n",
        "    i = i +1\r\n",
        "    if i == 2:\r\n",
        "        print(\"Skipping 2\")\r\n",
        "        continue\r\n",
        "    if i == 5:\r\n",
        "        print(\"Breaking\")\r\n",
        "        break\r\n",
        "    print(i)\r\n",
        "\r\n",
        "print(\"Finished\")"
      ],
      "execution_count": null,
      "outputs": [
        {
          "output_type": "stream",
          "text": [
            "1\n",
            "Skipping 2\n",
            "3\n",
            "4\n",
            "Breaking\n",
            "Finished\n"
          ],
          "name": "stdout"
        }
      ]
    },
    {
      "cell_type": "markdown",
      "metadata": {
        "id": "QOmZp6ujpI0C"
      },
      "source": [
        "## For loop\r\n",
        "\r\n",
        "For loop is to iterate over a given sequence. "
      ]
    },
    {
      "cell_type": "code",
      "metadata": {
        "id": "1Ed5CvllnxrM",
        "colab": {
          "base_uri": "https://localhost:8080/"
        },
        "outputId": "a967c521-41d9-4c1f-ffdb-209406b9a5bb"
      },
      "source": [
        "words = [\"hello\", \"world\", \"spam\", \"eggs\"]\r\n",
        "for word in words: # for each loop: for (String i : cars)\r\n",
        "    print(word + \"!\")"
      ],
      "execution_count": null,
      "outputs": [
        {
          "output_type": "stream",
          "text": [
            "hello!\n",
            "world!\n",
            "spam!\n",
            "eggs!\n"
          ],
          "name": "stdout"
        }
      ]
    },
    {
      "cell_type": "code",
      "metadata": {
        "id": "DvvPSATEn3gQ",
        "colab": {
          "base_uri": "https://localhost:8080/"
        },
        "outputId": "b62e37c1-1e0e-495a-8a83-33e02f7c42df"
      },
      "source": [
        "string = \"testing for loops\"\r\n",
        "count = 0\r\n",
        "for x in string:\r\n",
        "  if(x == 't'):\r\n",
        "    count += 1\r\n",
        "    \r\n",
        "print(count)"
      ],
      "execution_count": null,
      "outputs": [
        {
          "output_type": "stream",
          "text": [
            "2\n"
          ],
          "name": "stdout"
        }
      ]
    },
    {
      "cell_type": "code",
      "metadata": {
        "colab": {
          "base_uri": "https://localhost:8080/"
        },
        "id": "wlztnA4J_MJC",
        "outputId": "ce2966cf-ead4-4fed-c07c-56069135efa9"
      },
      "source": [
        "for i in range(10): # for (int i = 0; i < 10; i++)\r\n",
        "  print(i)\r\n",
        "else:\r\n",
        "  print(\"Finished!!\")"
      ],
      "execution_count": null,
      "outputs": [
        {
          "output_type": "stream",
          "text": [
            "0\n",
            "1\n",
            "2\n",
            "3\n",
            "4\n",
            "5\n",
            "6\n",
            "7\n",
            "8\n",
            "9\n",
            "Finished!!\n"
          ],
          "name": "stdout"
        }
      ]
    },
    {
      "cell_type": "code",
      "metadata": {
        "colab": {
          "base_uri": "https://localhost:8080/"
        },
        "id": "BqU6Wi_8tIcb",
        "outputId": "d4af0b4b-c3fb-44e9-d385-3e2b53211930"
      },
      "source": [
        "for i in range(10): # for (int i = 0; i < 10; i++)\r\n",
        "  print(i)\r\n",
        "  if i == 5:\r\n",
        "    break\r\n",
        "else:\r\n",
        "  print(\"Finished!!\")"
      ],
      "execution_count": null,
      "outputs": [
        {
          "output_type": "stream",
          "text": [
            "0\n",
            "1\n",
            "2\n",
            "3\n",
            "4\n",
            "5\n"
          ],
          "name": "stdout"
        }
      ]
    },
    {
      "cell_type": "markdown",
      "metadata": {
        "id": "tHMRLZ_Dalrq"
      },
      "source": [
        "## Range()\r\n",
        "\r\n",
        "range() is to return a sequence of numbers. "
      ]
    },
    {
      "cell_type": "code",
      "metadata": {
        "colab": {
          "base_uri": "https://localhost:8080/"
        },
        "id": "8H-GwNQboQPu",
        "outputId": "71ff230c-0de8-4773-f8b5-b34263f92b89"
      },
      "source": [
        "numbers = list(range(10))\r\n",
        "print(numbers)\r\n",
        "\r\n",
        "numbers = list(range(5,10))\r\n",
        "print(numbers)\r\n",
        "\r\n",
        "numbers = list(range(0, 10, 2))\r\n",
        "print(numbers)\r\n"
      ],
      "execution_count": null,
      "outputs": [
        {
          "output_type": "stream",
          "text": [
            "[0, 1, 2, 3, 4, 5, 6, 7, 8, 9]\n",
            "[5, 6, 7, 8, 9]\n",
            "[0, 2, 4, 6, 8]\n"
          ],
          "name": "stdout"
        }
      ]
    },
    {
      "cell_type": "markdown",
      "metadata": {
        "id": "8xKQ2QIBpeFZ"
      },
      "source": [
        "# Exception Handling\r\n",
        "\r\n",
        "Exceptions occur when something goes wrong due to inncorect code or input.\r\n",
        "\r\n",
        "The program immediately stops when the exceptions occurs.\r\n",
        "\r\n",
        "Use try/except statement to handle exceptions."
      ]
    },
    {
      "cell_type": "markdown",
      "metadata": {
        "id": "OKhYyddTs0MI"
      },
      "source": [
        "try.. except.. finally"
      ]
    },
    {
      "cell_type": "code",
      "metadata": {
        "colab": {
          "base_uri": "https://localhost:8080/",
          "height": 163
        },
        "id": "kmVCECxMp0TT",
        "outputId": "44e3e52f-b7ee-4370-afd0-a38e2c21d6dd"
      },
      "source": [
        "1 / 0 "
      ],
      "execution_count": null,
      "outputs": [
        {
          "output_type": "error",
          "ename": "ZeroDivisionError",
          "evalue": "ignored",
          "traceback": [
            "\u001b[0;31m---------------------------------------------------------------------------\u001b[0m",
            "\u001b[0;31mZeroDivisionError\u001b[0m                         Traceback (most recent call last)",
            "\u001b[0;32m<ipython-input-86-bc757c3fda29>\u001b[0m in \u001b[0;36m<module>\u001b[0;34m()\u001b[0m\n\u001b[0;32m----> 1\u001b[0;31m \u001b[0;36m1\u001b[0m \u001b[0;34m/\u001b[0m \u001b[0;36m0\u001b[0m\u001b[0;34m\u001b[0m\u001b[0;34m\u001b[0m\u001b[0m\n\u001b[0m",
            "\u001b[0;31mZeroDivisionError\u001b[0m: division by zero"
          ]
        }
      ]
    },
    {
      "cell_type": "code",
      "metadata": {
        "colab": {
          "base_uri": "https://localhost:8080/"
        },
        "id": "weAMEEgWsxbI",
        "outputId": "26eff42e-1b43-4098-d487-bd8b48bd25e2"
      },
      "source": [
        "try:\r\n",
        "  x = input(\"x = \")\r\n",
        "  y = input(\"y = \")\r\n",
        "  answer = int(x) / int(y)\r\n",
        "  print(\"Answer is \" + str(answer))\r\n",
        "\r\n",
        "except ZeroDivisionError: # except same as catch\r\n",
        "  print(\"y CANNOT BE ZERO\")\r\n",
        "except:\r\n",
        "  print(\"an error has occured\")\r\n"
      ],
      "execution_count": null,
      "outputs": [
        {
          "output_type": "stream",
          "text": [
            "x = 1\n",
            "y = q\n",
            "an error has occured\n"
          ],
          "name": "stdout"
        }
      ]
    },
    {
      "cell_type": "code",
      "metadata": {
        "colab": {
          "base_uri": "https://localhost:8080/"
        },
        "id": "fMF4QZkltjeO",
        "outputId": "9880f8d6-f119-4e14-c0d7-2d97ad58ab14"
      },
      "source": [
        "try: \r\n",
        "  x = input(\"x = \")\r\n",
        "  y = input(\"y = \")\r\n",
        "  answer = int(x) / int(y)\r\n",
        "  print(\"Answer is \" + str(answer))\r\n",
        "\r\n",
        "except ZeroDivisionError as x:\r\n",
        "  print(x)\r\n",
        "except:\r\n",
        "  print(\"an error has occured\")"
      ],
      "execution_count": null,
      "outputs": [
        {
          "output_type": "stream",
          "text": [
            "x = 1\n",
            "y = 0\n",
            "division by zero\n"
          ],
          "name": "stdout"
        }
      ]
    },
    {
      "cell_type": "code",
      "metadata": {
        "colab": {
          "base_uri": "https://localhost:8080/"
        },
        "id": "glqGYT1utxSs",
        "outputId": "18f629f5-e62d-4ad4-9531-d7f8ac9f3fa4"
      },
      "source": [
        "try:\r\n",
        "  x = input(\"x = \")\r\n",
        "  y = input(\"y = \")\r\n",
        "  answer = int(x) / int(y)\r\n",
        "  print(\"Answer is \" + str(answer))\r\n",
        "\r\n",
        "except ZeroDivisionError as x:\r\n",
        "  print(x)\r\n",
        "except:\r\n",
        "  print(\"an error has occured\")\r\n",
        "finally: #the finally statement will be run no matter what error occurs\r\n",
        "  print(\"Process completed\")"
      ],
      "execution_count": null,
      "outputs": [
        {
          "output_type": "stream",
          "text": [
            "x = 1\n",
            "y = a\n",
            "an error has occured\n",
            "Process completed\n"
          ],
          "name": "stdout"
        }
      ]
    },
    {
      "cell_type": "code",
      "metadata": {
        "colab": {
          "base_uri": "https://localhost:8080/",
          "height": 299
        },
        "id": "Pw4-3hO_D2bN",
        "outputId": "59b075dc-ac55-4b41-8757-90e9767d899a"
      },
      "source": [
        "try:\r\n",
        "  x = input(\"x = \")\r\n",
        "  y = input(\"y = \")\r\n",
        "  answer = int(x) / int(y)\r\n",
        "  print(\"Answer is \" + str(answer))\r\n",
        "\r\n",
        "except ZeroDivisionError:\r\n",
        "  raise Exception(\"Invalid value!\") # raise exceptions\r\n",
        "except:\r\n",
        "  print(\"an error has occured\")\r\n",
        "  raise\r\n",
        "finally:\r\n",
        "  print(\"Process completed\")"
      ],
      "execution_count": null,
      "outputs": [
        {
          "output_type": "stream",
          "text": [
            "x = 1\n",
            "y = q\n",
            "an error has occured\n",
            "Process completed\n"
          ],
          "name": "stdout"
        },
        {
          "output_type": "error",
          "ename": "ValueError",
          "evalue": "ignored",
          "traceback": [
            "\u001b[0;31m---------------------------------------------------------------------------\u001b[0m",
            "\u001b[0;31mValueError\u001b[0m                                Traceback (most recent call last)",
            "\u001b[0;32m<ipython-input-95-14969cb474b1>\u001b[0m in \u001b[0;36m<module>\u001b[0;34m()\u001b[0m\n\u001b[1;32m      2\u001b[0m   \u001b[0mx\u001b[0m \u001b[0;34m=\u001b[0m \u001b[0minput\u001b[0m\u001b[0;34m(\u001b[0m\u001b[0;34m\"x = \"\u001b[0m\u001b[0;34m)\u001b[0m\u001b[0;34m\u001b[0m\u001b[0;34m\u001b[0m\u001b[0m\n\u001b[1;32m      3\u001b[0m   \u001b[0my\u001b[0m \u001b[0;34m=\u001b[0m \u001b[0minput\u001b[0m\u001b[0;34m(\u001b[0m\u001b[0;34m\"y = \"\u001b[0m\u001b[0;34m)\u001b[0m\u001b[0;34m\u001b[0m\u001b[0;34m\u001b[0m\u001b[0m\n\u001b[0;32m----> 4\u001b[0;31m   \u001b[0manswer\u001b[0m \u001b[0;34m=\u001b[0m \u001b[0mint\u001b[0m\u001b[0;34m(\u001b[0m\u001b[0mx\u001b[0m\u001b[0;34m)\u001b[0m \u001b[0;34m/\u001b[0m \u001b[0mint\u001b[0m\u001b[0;34m(\u001b[0m\u001b[0my\u001b[0m\u001b[0;34m)\u001b[0m\u001b[0;34m\u001b[0m\u001b[0;34m\u001b[0m\u001b[0m\n\u001b[0m\u001b[1;32m      5\u001b[0m   \u001b[0mprint\u001b[0m\u001b[0;34m(\u001b[0m\u001b[0;34m\"Answer is \"\u001b[0m \u001b[0;34m+\u001b[0m \u001b[0mstr\u001b[0m\u001b[0;34m(\u001b[0m\u001b[0manswer\u001b[0m\u001b[0;34m)\u001b[0m\u001b[0;34m)\u001b[0m\u001b[0;34m\u001b[0m\u001b[0;34m\u001b[0m\u001b[0m\n\u001b[1;32m      6\u001b[0m \u001b[0;34m\u001b[0m\u001b[0m\n",
            "\u001b[0;31mValueError\u001b[0m: invalid literal for int() with base 10: 'q'"
          ]
        }
      ]
    },
    {
      "cell_type": "code",
      "metadata": {
        "id": "FsjL-yahu16x"
      },
      "source": [
        ""
      ],
      "execution_count": null,
      "outputs": []
    },
    {
      "cell_type": "markdown",
      "metadata": {
        "id": "E0MihqOHo63q"
      },
      "source": [
        "# Function\r\n",
        "\r\n",
        "Use **def** statement to create your own functions."
      ]
    },
    {
      "cell_type": "code",
      "metadata": {
        "colab": {
          "base_uri": "https://localhost:8080/"
        },
        "id": "ye4WypGCo5z3",
        "outputId": "23961ec4-96b6-442e-b113-98e87c45c04f"
      },
      "source": [
        "def printHello():\r\n",
        "  print(\"Hello World!\")\r\n",
        "\r\n",
        "printHello()"
      ],
      "execution_count": null,
      "outputs": [
        {
          "output_type": "stream",
          "text": [
            "Hello World!\n"
          ],
          "name": "stdout"
        }
      ]
    },
    {
      "cell_type": "code",
      "metadata": {
        "colab": {
          "base_uri": "https://localhost:8080/"
        },
        "id": "WJ0kDdY3pBPz",
        "outputId": "0562f618-c6c8-412e-d342-4d534b0fac03"
      },
      "source": [
        "# with one argument\r\n",
        "def welcome(name):\r\n",
        "  print(\"Welcome \" + name + \" aboard!\")\r\n",
        "\r\n",
        "welcome(\"Ah Chong\")"
      ],
      "execution_count": null,
      "outputs": [
        {
          "output_type": "stream",
          "text": [
            "Welcome Ah Chong aboard!\n"
          ],
          "name": "stdout"
        }
      ]
    },
    {
      "cell_type": "code",
      "metadata": {
        "colab": {
          "base_uri": "https://localhost:8080/"
        },
        "id": "mIoNvQbSpZo0",
        "outputId": "4b06a3cc-70ef-4ed1-c663-ca6340e9bfbc"
      },
      "source": [
        "# more than one arguments\r\n",
        "def add(x, y):\r\n",
        "  return x + y\r\n",
        "\r\n",
        "x = 10\r\n",
        "y = 10\r\n",
        "\r\n",
        "print(f\"The sum of {x} and {y} is \" + str(add(x, y)))"
      ],
      "execution_count": null,
      "outputs": [
        {
          "output_type": "stream",
          "text": [
            "The sum of 10 and 10 is 20\n"
          ],
          "name": "stdout"
        }
      ]
    },
    {
      "cell_type": "code",
      "metadata": {
        "id": "UIZNank6pS5l"
      },
      "source": [
        "def add(x, y):\r\n",
        "  return x + y\r\n",
        "\r\n",
        "operation = add\r\n",
        "\r\n",
        "a = 10\r\n",
        "b = 12\r\n",
        "\r\n",
        "print(f\"The sum of {a} and {b} is \" + str(operation(a, b)))"
      ],
      "execution_count": null,
      "outputs": []
    },
    {
      "cell_type": "code",
      "metadata": {
        "id": "o9jiqM3qqFWu"
      },
      "source": [
        "def add(x, y):\r\n",
        "  return x + y\r\n",
        "  \r\n",
        "def sum_twice(func, x, y):\r\n",
        "  \"\"\"\r\n",
        "  Sum 2 times\r\n",
        "  \"\"\"         \r\n",
        "  return func(func(x,y), func(x,y)) # add(add(x,y), add(x,y))\r\n",
        "\r\n",
        "a = 3\r\n",
        "b = 2\r\n",
        "\r\n",
        "print(f\"The sum of {a} and {b} by 2 times is \" + str(sum_twice(add, a, b)))"
      ],
      "execution_count": null,
      "outputs": []
    },
    {
      "cell_type": "markdown",
      "metadata": {
        "id": "PTynLwuPabXJ"
      },
      "source": [
        "# Exercise 2\r\n"
      ]
    },
    {
      "cell_type": "markdown",
      "metadata": {
        "id": "744h5ujioPVT"
      },
      "source": [
        "Write a program to allow user enter an arithmetric expression in form of x + y. You should consider basic math operation such as +, -, *, /. Then, return your answer to the user. \r\n",
        "Example:\r\n",
        "\r\n",
        "\r\n",
        "\r\n",
        "```\r\n",
        "Please enter an arithmetric expresisons: 5 + 5\r\n",
        "answer is 10\r\n",
        "```\r\n",
        "\r\n"
      ]
    },
    {
      "cell_type": "code",
      "metadata": {
        "colab": {
          "base_uri": "https://localhost:8080/"
        },
        "id": "q0P-DVjhYP8C",
        "outputId": "69eb858c-3742-4511-e5d8-8e0c33dcdc36"
      },
      "source": [
        "question = input('Please enter an arithmetric expresisons in form of x + y: ')\r\n",
        "x, operator, y = question.split(' ')\r\n",
        "\r\n",
        "x = int(x); y = int(y)\r\n",
        "\r\n",
        "if operator == '+':\r\n",
        "  print('answer is ', x + y)\r\n",
        "elif operator == '-':\r\n",
        "  print('answer is ', x - y)\r\n",
        "elif operator == '*':\r\n",
        "  print('answer is ', x * y)\r\n",
        "elif operator == '/':\r\n",
        "  try:\r\n",
        "    print('answer is ', x / y)\r\n",
        "  except ZeroDivisionError:\r\n",
        "    print(\"Cannot divide by zero. \")\r\n",
        "else:\r\n",
        "  print(\"Error has occured\")"
      ],
      "execution_count": null,
      "outputs": [
        {
          "output_type": "stream",
          "text": [
            "Please enter an arithmetric expresisons in form of x + y: 1 +- 2\n",
            "Error has occured\n"
          ],
          "name": "stdout"
        }
      ]
    }
  ]
}